{
 "cells": [
  {
   "cell_type": "code",
   "execution_count": 1,
   "metadata": {},
   "outputs": [],
   "source": [
    "#!/usr/bin/python\n",
    "# this file generates data and the gnuplot file used for the delta pwm plot \n",
    "# needs python, scipy and gnuplot (4.0 used)\n",
    "from scipy import *\n",
    "\n",
    "freq= 0.05      # frequency of the reference signal\n",
    "step=1e-2       # calculation time step\n",
    "hysteresis=0.15 # hysteresis of the delta pwm\n",
    "current_increase=0.5 # rate of increase (or decrease) in the output current\n",
    "current_decrease=-0.5\n",
    "\n",
    "direction=0     # direction=0 when output current increase, 1 otherwise\n",
    "current=[0]     # this is the current waveform\n",
    "pwm=[0]         # This vector is the pwm signal\n",
    "grid=[\"0\"]      # this vector contains the x-values at which the pwm signal\n",
    "                # changes state\n",
    "file = open(\"data.dat\",\"w\") # the data file\n",
    "\n",
    "for i in range(int(1/(freq*step))):\n",
    "    reference=sin(i*step*freq*2*pi)\n",
    "    high_limit=reference+hysteresis\n",
    "    low_limit=reference-hysteresis\n",
    "    if direction==0:\n",
    "        if current[i]<high_limit:    #if current is increasing, but we still\n",
    "                                        #are under the upper limit, carry on\n",
    "            current.append(current[i]+current_increase*step)\n",
    "            pwm.append(1)               \n",
    "        else:                           #else change pwm state\n",
    "            current.append(current[i]+current_decrease*step)\n",
    "            direction=1\n",
    "            grid.append(\"%s\"%(i*step))  #stores the time value at which the \n",
    "                                        #pwm changed state  \n",
    "            pwm.append(0)            \n",
    "    elif direction==1:                  #if current is decreasing, but we still\n",
    "                                        #are over the lower limit, carry on\n",
    "        if current[i]>low_limit:\n",
    "            current.append(current[i]+current_decrease*step)\n",
    "            pwm.append(0)           \n",
    "        else:                           #else change pwm state\n",
    "            current.append(current[i]+current_increase*step)\n",
    "            direction=0\n",
    "            grid.append(\"%s\"%(i*step))  #stores the time value at which the \n",
    "                                        #pwm changed state\n",
    "            pwm.append(1)\n",
    "    file.write('%s\\t%s\\t%s\\t%s\\t%s\\t%s\\n'%(i*step,pwm[i],current[i],\n",
    "                                        high_limit,\n",
    "                                          low_limit,\n",
    "                                          reference))\n",
    "file.close()                            # end of data generation\n",
    "\n",
    "xtics=',\"\" '.join(grid)                 # creates a string used for the x-tics\n",
    "file = open(\"delta.plt\",\"w\")            # generates the gnuplot file\n",
    "file.write(\"\"\"\n",
    "# This file is used to generate a plot that explains the \n",
    "# principle of the delta pwm\n",
    "\n",
    "# graph configuration\n",
    "#set terminal postscript eps enhanced \"Times-Roman\" 24 color solid\n",
    "set terminal png size 1000,800 enhanced font \"Times-Roman,24\"\n",
    "\n",
    "\n",
    "set encoding utf8\n",
    "#iso_8859_15\n",
    "unset title\n",
    "#set linetype 1 lt 3 lw 3 pt 0 ps 0\n",
    "#set linetype 2 lt 2 lw 1 pt 0 ps 0\n",
    "#set linetype 3 lt 8 lw 2 pt 0 ps 0\n",
    "#set linetype 4 lt 4 lw 3 pt 0 ps 0\n",
    "\n",
    "set style line 1 lt 3 lw 3 pt 0 ps 0                                           \n",
    "set style line 2 lt 2 lw 1 pt 0 ps 0                                           \n",
    "set style line 3 lt 8 lw 2 pt 0 ps 0\n",
    "set style line 4 lt 4 lw 3 pt 0 ps 0 \n",
    "\n",
    "set border 15 lt 7 lw 4\n",
    "\n",
    "set grid xtics ytics\n",
    "set xlabel \"\"\n",
    "set format x \"\"\n",
    "set bmargin 0\n",
    "set tmargin 0\n",
    "  \n",
    "set ytics (\"0\" 0)\n",
    "set xtics (%s)  \n",
    "\n",
    "set output \"delta.png\"\n",
    "set multiplot\n",
    "        set ylabel \"Analog signals\"\n",
    "        set origin 0,0.54\n",
    "        set size 1,0.45\n",
    "        plot [0:19][-1.2:1.2] \"data.dat\" using 1:6 ls 3 title 'Reference' w l,\\\n",
    "        '' using 1:4 w l ls 2 title 'Limits',\\\n",
    "        '' using 1:5 w l ls 2 title '',\\\n",
    "        '' using 1:3 w l ls 1 title 'Output'\n",
    "\n",
    "        set ytics (\"0\" 0, \"1\" 1)\n",
    "        set ylabel \"PWM signal\"\n",
    "        set xlabel \"Time\"\n",
    "        set origin 0,0.09\n",
    "        plot [0:19][-0.25:1.25] 'data.dat' using 1:2 ls 4 title '' w l\n",
    "unset multiplot \"\"\" %xtics)\n",
    "file.close()                            # end of the gnuplot file.\n"
   ]
  },
  {
   "cell_type": "code",
   "execution_count": 2,
   "metadata": {},
   "outputs": [],
   "source": [
    "import numpy as np\n",
    "import matplotlib.pyplot as plt\n",
    "\n",
    "# inline plots for matplotlib\n",
    "%matplotlib inline\n",
    "\n",
    "# This loads the magics for gnuplot\n",
    "%load_ext gnuplot_kernel"
   ]
  },
  {
   "cell_type": "code",
   "execution_count": 3,
   "metadata": {},
   "outputs": [],
   "source": [
    "%gnuplot qt size 600,400"
   ]
  },
  {
   "cell_type": "code",
   "execution_count": 4,
   "metadata": {},
   "outputs": [
    {
     "data": {
      "text/plain": [
       "%gnuplot qt size 600,400\n",
       "         ^\n",
       "         invalid command\n"
      ]
     },
     "metadata": {},
     "output_type": "display_data"
    }
   ],
   "source": [
    "%%gnuplot \n",
    "%gnuplot qt size 600,400"
   ]
  },
  {
   "cell_type": "code",
   "execution_count": 5,
   "metadata": {},
   "outputs": [],
   "source": [
    "%gnuplot inline"
   ]
  },
  {
   "cell_type": "code",
   "execution_count": 6,
   "metadata": {},
   "outputs": [
    {
     "data": {
      "image/png": "[encoded data removed]",
      "text/plain": [
       "<IPython.core.display.Image object>"
      ]
     },
     "metadata": {},
     "output_type": "display_data"
    },
    {
     "data": {
      "text/plain": [
       "set output '/tmp/gnuplot-inline-1515487996.3981624.719599415323.png'\n",
       "plot sin(x)\n",
       "unset output"
      ]
     },
     "metadata": {},
     "output_type": "display_data"
    }
   ],
   "source": [
    "%%gnuplot \n",
    "plot sin(x)"
   ]
  },
  {
   "cell_type": "code",
   "execution_count": 7,
   "metadata": {},
   "outputs": [
    {
     "data": {
      "text/plain": [
       "0"
      ]
     },
     "execution_count": 7,
     "metadata": {},
     "output_type": "execute_result"
    }
   ],
   "source": [
    "#%%gnuplot \n",
    "from os import system, remove\n",
    "system('gnuplot delta.plt')\n"
   ]
  },
  {
   "cell_type": "code",
   "execution_count": 41,
   "metadata": {},
   "outputs": [
    {
     "data": {
      "image/png": "[encoded data removed]",
      "text/plain": [
       "<IPython.core.display.Image object>"
      ]
     },
     "execution_count": 41,
     "metadata": {},
     "output_type": "execute_result"
    }
   ],
   "source": [
    "from IPython.display import Image\n",
    "Image(filename='./delta.png')"
   ]
  },
  {
   "cell_type": "code",
   "execution_count": null,
   "metadata": {},
   "outputs": [],
   "source": []
  }
 ],
 "metadata": {
  "kernelspec": {
   "display_name": "Python 3",
   "language": "python",
   "name": "python3"
  },
  "language_info": {
   "codemirror_mode": {
    "name": "ipython",
    "version": 3
   },
   "file_extension": ".py",
   "mimetype": "text/x-python",
   "name": "python",
   "nbconvert_exporter": "python",
   "pygments_lexer": "ipython3",
   "version": "3.6.4"
  }
 },
 "nbformat": 4,
 "nbformat_minor": 2
}
