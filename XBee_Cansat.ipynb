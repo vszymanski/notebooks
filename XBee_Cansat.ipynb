{
 "cells": [
  {
   "cell_type": "code",
   "execution_count": 23,
   "metadata": {
    "scrolled": true
   },
   "outputs": [
    {
     "data": {
      "text/plain": [
       "<matplotlib.figure.Figure at 0x7f23f6cafa20>"
      ]
     },
     "metadata": {},
     "output_type": "display_data"
    }
   ],
   "source": [
    "__author__ = 'prempal'\n",
    "__TEAM_ID__ = 'CS08'\n",
    "import serial\n",
    "import csv\n",
    "import matplotlib.pyplot as plt\n",
    "import matplotlib.animation as animation\n",
    "import math\n",
    "%matplotlib inline\n",
    "\n",
    "coord = serial.Serial(\n",
    " port='/dev/ttyUSB3',\n",
    " baudrate = 9600,\n",
    " parity=serial.PARITY_NONE,\n",
    " stopbits=serial.STOPBITS_ONE,\n",
    " bytesize=serial.EIGHTBITS,\n",
    " timeout=1\n",
    ")\n",
    "SERIAL_PORT = '/dev/ttyUSB2'\n",
    "BAUD_RATE = 9600\n",
    "FILE_NAME = \"CANSAT2015_TLM_\" + TEAM_ID + \".csv\"\n",
    "HEADER_ROW = ['TEAM_ID','MISSION_TIME','ALT_SENSOR','OUTSIDE_TEMP','INSIDE_TEMP',\n",
    "'VOLTAGE','FSW_STATE','BONUS']\n",
    "\n",
    "fig = plt.figure()\n",
    "fig.canvas.set_window_title('REALTIME DATA PLOTTING')\n",
    "\n",
    "ser = serial.Serial(SERIAL_PORT,BAUD_RATE)\n",
    "myFile = open(FILE_NAME,'w')\n",
    "writer = csv.writer(myFile)\n",
    "writer.writerow(HEADER_ROW)\n",
    "i = 0\n",
    "xar = []\n",
    "out_temp, in_temp, altitude, acc_x, acc_y, acc_z = [], [], [], [], [], []\n",
    "def animate(yolo):\n",
    "    global i, xar, out_temp, in_temp, altitude, acc_x, acc_y, acc_z\n",
    "    message = ser.readline()\n",
    "    if len(message)>5:\n",
    "        l = message.split(\",\")\n",
    "        print(l)\n",
    "        #remove the newline character from the end\n",
    "        l = l[:-1]\n",
    "        xyz = l[7:]\n",
    "        l = l[:7]\n",
    "        l.append(xyz)\n",
    "        writer.writerow(l)\n",
    "        xar.append(int(i))\n",
    "        altitude.append(float(l[2]))\n",
    "        out_temp.append(float(l[3]))\n",
    "        in_temp.append(float(l[4]))\n",
    "        x = int(xyz[0])\n",
    "        y = int(xyz[0])\n",
    "        z = int(xyz[0])\n",
    "        acc_x.append(x)\n",
    "        acc_y.append(y)\n",
    "        acc_z.append(z)\n",
    "        descent_angle = math.acos(math.sqrt(x*x + y*y + z*z)/math.sqrt(x*x + y*y))\n",
    "        print(descent_angle)\n",
    "        i = i+1\n",
    "\n",
    "    plt.subplot(3, 2, 1)\n",
    "    plt.plot(xar,out_temp,'yo-')\n",
    "    plt.xlabel('Time(s)')\n",
    "    plt.ylabel('Outside Temperature(deg C)')\n",
    "\n",
    "    plt.subplot(3, 2, 2)\n",
    "    plt.plot(xar,in_temp,'ro-')\n",
    "    plt.xlabel('Time(s)')\n",
    "    plt.ylabel('Inside Temperature(deg C)')\n",
    "\n",
    "    plt.subplot(3, 2, 3)\n",
    "    plt.plot(xar,altitude,'go-')\n",
    "    plt.xlabel('Time(s)')\n",
    "    plt.ylabel('Altitude(m)')\n",
    "\n",
    "    plt.subplot(3, 2, 4)\n",
    "    plt.plot(xar,acc_x,'bo-')\n",
    "    plt.plot(xar,acc_y,'go-')\n",
    "    plt.plot(xar,acc_z,'yo-')\n",
    "    plt.xlabel('Time(s)')\n",
    "    plt.ylabel('Acceleration(m/s^2)')\n",
    "\n",
    "ani = animation.FuncAnimation(fig, animate, interval=1000)\n",
    "plt.show()"
   ]
  },
  {
   "cell_type": "code",
   "execution_count": null,
   "metadata": {},
   "outputs": [],
   "source": []
  }
 ],
 "metadata": {
  "kernelspec": {
   "display_name": "Python 3",
   "language": "python",
   "name": "python3"
  },
  "language_info": {
   "codemirror_mode": {
    "name": "ipython",
    "version": 3
   },
   "file_extension": ".py",
   "mimetype": "text/x-python",
   "name": "python",
   "nbconvert_exporter": "python",
   "pygments_lexer": "ipython3",
   "version": "3.6.4"
  }
 },
 "nbformat": 4,
 "nbformat_minor": 2
}
