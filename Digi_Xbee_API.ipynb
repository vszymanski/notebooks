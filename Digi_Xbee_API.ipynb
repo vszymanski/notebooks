{
 "cells": [
  {
   "cell_type": "code",
   "execution_count": null,
   "metadata": {},
   "outputs": [],
   "source": [
    "# END DEVICE : Emetteur\n",
    "from digi.xbee.devices import XBeeDevice\n",
    "device = XBeeDevice(\"/dev/ttyUSB0\", 9600)\n",
    "device.open()\n",
    "while 1:\n",
    "    device.send_data_broadcast(\"Hello XBee World!\\n Sexy Boys\")\n",
    "device.close()"
   ]
  },
  {
   "cell_type": "code",
   "execution_count": null,
   "metadata": {},
   "outputs": [],
   "source": [
    "# ROUTEUR : Récepteur\n",
    "\n",
    "from digi.xbee.devices import XBeeDevice\n",
    "xdevice = XBeeDevice(\"/dev/ttyUSB1\", 9600)\n",
    "#xdevice.close()\n",
    "xdevice.open()\n",
    "#x=device.read_data()\n",
    "NEW_TIMEOUT_FOR_SYNC_OPERATIONS = 5 # 5 seconds\n",
    "# Instantiate a remote ZigBee device object.\n",
    "# Read data.\n",
    "xbee_message = xdevice.wait_read_frame()\n",
    "# Read data sent by the remote device.\n",
    "print(xbee_message)\n"
   ]
  },
  {
   "cell_type": "code",
   "execution_count": null,
   "metadata": {},
   "outputs": [],
   "source": [
    "xbee_message"
   ]
  },
  {
   "cell_type": "code",
   "execution_count": 8,
   "metadata": {},
   "outputs": [
    {
     "name": "stdout",
     "output_type": "stream",
     "text": [
      "b'~\\x00<\\x91\\x00\\x13\\xa2\\x00@c\\xd1\\xbe\\x00\\x00\\xe8\\xe8\\x00\\x11\\xc1\\x05\\x011654,4789,-15435,4564631,444654,156432,0\\x00\\x00\\xef'\n"
     ]
    }
   ],
   "source": [
    "TEAM_ID= 'CS08'\n",
    "FILE_NAME = 'CANSAT2018_TLM_' + TEAM_ID + '.csv'\n",
    "HEADER_ROW = ['TEAM_ID','MISSION_TIME','ALT_SENSOR','OUTSIDE_TEMP','INSIDE_TEMP',\n",
    "'VOLTAGE','FSW_STATE','BONUS']\n",
    "import serial \n",
    "import csv\n",
    "coord = serial.Serial(\n",
    "# port série du Xbee récepteur\n",
    " port='/dev/ttyUSB1',\n",
    " baudrate = 9600,\n",
    " parity=serial.PARITY_NONE,\n",
    " stopbits=serial.STOPBITS_ONE,\n",
    " bytesize=serial.EIGHTBITS,\n",
    " timeout=15\n",
    ")\n",
    "coord.close()\n",
    "coord.open()\n",
    "SERIAL_PORT = '/dev/ttyUSB1'\n",
    "BAUD_RATE = 9600\n",
    "\n",
    "\n",
    "ser = serial.Serial(SERIAL_PORT,BAUD_RATE)\n",
    "myFile = open(FILE_NAME,'w')\n",
    "writer = csv.writer(myFile)\n",
    "writer.writerow(HEADER_ROW)\n",
    "with serial.Serial('/dev/ttyUSB1', 9600, timeout=15) as ser:\n",
    "#x = ser.read()          # read one byte\n",
    "    s = ser.read(64)        # read up to ten bytes (timeout)\n",
    "#line = ser.readline()   # read a '\\n' terminated line\n",
    "\n",
    "    print(s)\n",
    "\n"
   ]
  },
  {
   "cell_type": "code",
   "execution_count": 4,
   "metadata": {},
   "outputs": [
    {
     "name": "stdout",
     "output_type": "stream",
     "text": [
      "[0, 0, 0, 0, 0, 0, 0, 0, 0, 0, 0, 0]\n",
      "b'~\\x00\\x18\\x91\\x00\\x13\\xa2\\x00@c\\xd1\\xbe\\x00\\x00\\xe8\\xe8'\n",
      "\u0000\u0000\u0000\u0000\u0000\u0000\u0000\u0000\u0000\u0000\u0000\u0000\u0000\u0000\u0000\t\n"
     ]
    }
   ],
   "source": [
    "s = b'~\\x00\\x18\\x91\\x00\\x13\\xa2\\x00@c\\xd1\\xbe\\x00\\x00\\xe8\\xe8'\n",
    "\n",
    "c = 0\n",
    "k = [0] * 12\n",
    "print(k)\n",
    "for x in range(1,10):\n",
    "    k[x] = s[x]\n",
    "print(s)    \n",
    "nchars = len(s)\n",
    "# string to int or long. Type depends on nchars\n",
    "#x = sum(ord(k[byte])<<8*(nchars-byte-1) for byte in range(nchars))\n",
    "# int or long to string\n",
    "tel = ''.join(chr((x>>8*(nchars-byte-1))&0xFF) for byte in range(nchars))\n",
    "print(tel)"
   ]
  },
  {
   "cell_type": "code",
   "execution_count": 1,
   "metadata": {},
   "outputs": [
    {
     "name": "stdout",
     "output_type": "stream",
     "text": [
      "Affichage des caractères\n",
      "b'~\\x00<\\x91\\x00\\x13\\xa2\\x00@c\\xd1\\xbe\\x00\\x00\\xe8\\xe8\\x00\\x11\\xc1\\x05\\x011654,4789,-15435,4564631,444654,156432,0\\x00\\x00\\xef'\n",
      "La valeur b [49, 54, 53, 52, 44, 52, 55, 56, 57, 44, 45, 49, 53, 52, 51, 53, 44, 52, 53, 54, 52, 54, 51, 49, 44, 52, 52, 52, 54, 53, 52, 44, 49, 53, 54, 52, 51, 50, 44, 48, 0, 0, 239]\n",
      "b'1654,4789,-15435,4564631,444654,156432,0\\x00\\x00\\xef'\n",
      "t vaut : b'1654,4789,-15435,4564631,444654,156432,0'\n",
      "12517445834977718690871303062915331058107903640439969296011451776351672846876115387773892529955201735781555899802051906377378099552569963118616107672141950\n",
      "xx ['1654', '4789', '-15435', '4564631', '444654', '156432', '0']\n",
      "ax 1654\n",
      "ay 4789\n",
      "az -15435\n",
      "t 4564631\n",
      "p 4564631\n",
      "h 4564631\n",
      "status 0\n",
      "['1654', '4789', '-15435', '4564631', '444654', '156432', '0']\n",
      "pol :  b'342c'\n",
      "\n"
     ]
    },
    {
     "data": {
      "image/png": "[encoded data removed]",
      "text/plain": [
       "<matplotlib.figure.Figure at 0x7fdb5713a748>"
      ]
     },
     "metadata": {},
     "output_type": "display_data"
    }
   ],
   "source": [
    "#pretty_value = s.join(s)\n",
    "import sys\n",
    "from matplotlib import pyplot \n",
    "import pandas as pd\n",
    "import binascii\n",
    "import base64\n",
    "import numpy as np\n",
    "\n",
    "%matplotlib inline\n",
    "s=b'~\\x00\\x19\\x91\\x00\\x13\\xa2\\x00@c\\xd1\\xbe\\x00\\x00\\xe8\\xe8\\x00\\x11\\xc1\\x05\\x01hello\\x00\\xcb'\n",
    "s=b'~\\x00\\x19\\x91\\x00\\x13\\xa2\\x00@c\\xd1\\xbe\\x00\\x00\\xe8\\xe8\\x00\\x11\\xc1\\x05\\x0115,12,\\x00'\n",
    "s=b'~\\x00<\\x91\\x00\\x13\\xa2\\x00@c\\xd1\\xbe\\x00\\x00\\xe8\\xe8\\x00\\x11\\xc1\\x05\\x011654,4789,-15435,4564631,444654,156432,0\\x00\\x00\\xef'\n",
    "#La trame est définie de la manière suivante\n",
    "#Entête : 7E\n",
    "#MSB : Max Significant Byte de la taille de la donnée\n",
    "#LSB : Least Significant Byte de la taille de la donnée\n",
    "#API Frame Type :\n",
    "#DATA on N bytes (N = MSB LSB)\n",
    "#\n",
    "# Exemple trame ='7E 00 19 91 00 13 A2 00 40 63 D1 BE 00 00 E8 E8 00 11 C1 05 01 43 6F 75 63 6F 75 00 71 '\n",
    "\n",
    "#MSB = 00\n",
    "#LSB = 19\n",
    "#Frame type : 91\n",
    "#DATA : \n",
    "\n",
    "#################### DATA 1 -> 4 : MSB ADDRESS of the Transmitter\n",
    "#DATA 01 = 00\n",
    "#DATA 02 = 13\n",
    "#DATA 3 = A2\n",
    "#DATA 4 = 00\n",
    "#################### DATA 5 ->8 : LSB ADDRESS of the Transmitter\n",
    "#DATA 5 = 40\n",
    "#DATA 6 = 63\n",
    "#DATA 7 = D1\n",
    "#DATA 8 = BE\n",
    "#####################\n",
    "#DATA 9 = 00\n",
    "#DATA 10 = 00\n",
    "#DATA 11 = E8\n",
    "#DATA 12 = E8\n",
    "#DATA 13 = 00\n",
    "#DATA 14 = 11\n",
    "#DATA 15 = C1\n",
    "#DATA 16 = 05\n",
    "#DATA 17 = 01\n",
    "#DATA 18 = 43 -> C\n",
    "#DATA 19 = 6F -> o\n",
    "#DATA 20 = 75 -> u\n",
    "#DATA 21 = 63 -> c\n",
    "#DATA 22 = 6F -> o\n",
    "#DATA 23 = 75 -> u\n",
    "#DATA 24 = 00\n",
    "#DATA 25 = 71\n",
    "print('Affichage des caractères')\n",
    "\n",
    "\n",
    "\n",
    "\n",
    "def SendStr(self, msg, addr=0xFFFF, options=0x01, frameid=0x00):\n",
    "        return self.Send(msg.encode('utf-8'), addr, options, frameid)\n",
    "\n",
    "#source = unicode(source, 'utf-8')\n",
    "print(s)\n",
    "a=list(s)\n",
    "\n",
    "\n",
    "b=a[21:64]\n",
    "print('La valeur b',b)\n",
    "print(bytes(b))\n",
    "b=b'1,4,7,9'\n",
    "t=s[21:61]\n",
    "print('t vaut :',t)\n",
    "print(int.from_bytes(a, byteorder='little'))\n",
    "\n",
    "    \n",
    "#trame ='7E 00 19 91 00 13 A2 00 40 63 D1 BE 00 00 E8 E8 00 11 C1 05 01 43 6F 75 63 6F 75 00 71 '\n",
    "#print(trame[0:6])\n",
    "text = str(b)[1:]\n",
    "\n",
    "xx= t.decode('ascii').split(',')\n",
    "(ax,ay,az,t,p,h,stat)=[int(_) for _ in t.decode('ascii').strip().split(',')]\n",
    "print(\"xx\",xx)\n",
    "\n",
    "print(\"ax\",ax)\n",
    "print(\"ay\",ay)\n",
    "print(\"az\",az)\n",
    "print(\"t\",t)\n",
    "print(\"p\",t)\n",
    "print(\"h\",t)\n",
    "print(\"status\",stat)\n",
    "pyplot.figure()\n",
    "pyplot.plot(t,ax,'g+-')\n",
    "pyplot.plot(t,ay,'r+-')\n",
    "pyplot.plot(t,az,'b*-')\n",
    "pyplot.grid()\n",
    "b[0:3]\n",
    "print(xx)\n",
    "\n",
    "\n",
    "pol = binascii.hexlify(s)\n",
    "print('pol : ',pol[48:52])\n",
    "y=str(b,'ascii')\n",
    "print(y[44:50])"
   ]
  },
  {
   "cell_type": "code",
   "execution_count": 72,
   "metadata": {},
   "outputs": [
    {
     "name": "stdout",
     "output_type": "stream",
     "text": [
      "b'spam'\n",
      "b'15,12'\n",
      "<class 'bytes'>\n",
      "15,12\n",
      "['1', '5', ',', '1', '2']\n",
      "0    15,12\n",
      "dtype: object\n"
     ]
    },
    {
     "data": {
      "text/plain": [
       "[<matplotlib.lines.Line2D at 0x7fc8f7f69470>]"
      ]
     },
     "execution_count": 72,
     "metadata": {},
     "output_type": "execute_result"
    },
    {
     "data": {
      "image/png": "[encoded data removed]",
      "text/plain": [
       "<matplotlib.figure.Figure at 0x7fc8f8228128>"
      ]
     },
     "metadata": {},
     "output_type": "display_data"
    }
   ],
   "source": [
    "import codecs \n",
    "print(bytes.fromhex('7370616d')) \n",
    "t=s[21:26]\n",
    "print(t)\n",
    "print(type(t))\n",
    "l=t.decode('utf8')\n",
    "m=l\n",
    "print(m)\n",
    "\n",
    "mm = list(m)\n",
    "ll = list(l)\n",
    "print(mm)\n",
    "ol=pd.Series(l)\n",
    "print(ol)\n",
    "ml = pd.Series(l)\n",
    "pyplot.plot(ml[1:],ol[1:])\n",
    "#numbers = b.encode('utf8')\n",
    "bin_repr = lambda s, coding=\"ascii\": ' '.join('{0:01d}'.format(c) for c in s.encode(coding))\n",
    "print(bin_repr(\"Bonjour\"))\n"
   ]
  },
  {
   "cell_type": "code",
   "execution_count": null,
   "metadata": {},
   "outputs": [],
   "source": [
    "s=\" \"\n",
    "seq=[\"ab\", \"cd\", \"ef\"]\n",
    "print(s.join(seq))\n",
    "b=bytearray('bb a7 f6 92'.replace(' ','')).decode('hex')"
   ]
  },
  {
   "cell_type": "code",
   "execution_count": null,
   "metadata": {},
   "outputs": [],
   "source": [
    "import serial\n",
    "import time\n",
    "from xbee import XBee\n",
    "\n",
    "\n",
    "def decodeReceivedFrame(data):\n",
    "            source_addr_long = hex(data['source_addr_long'])\n",
    "            source_addr = hex(data['source_addr'])\n",
    "            id = data['id']\n",
    "            samples = data['samples']\n",
    "            options = hex(data['options'])\n",
    "            return [source_addr_long, source_addr, id, samples]\n",
    "\n",
    "decodedData = decodeReceivedFrame(s)\n",
    "print(decodedData)"
   ]
  },
  {
   "cell_type": "code",
   "execution_count": null,
   "metadata": {},
   "outputs": [],
   "source": [
    "print(str(s))\n",
    "for c in range(1,5):\n",
    "    print(ord(str(c))"
   ]
  },
  {
   "cell_type": "code",
   "execution_count": null,
   "metadata": {},
   "outputs": [],
   "source": [
    "value = '\\x13\\xa2\\x00@y\\xe6_'\n",
    "print(value)\n",
    "print(s)\n",
    "print(len(s))\n",
    "print(type(s))\n",
    "print(s.decode('cp855'))"
   ]
  },
  {
   "cell_type": "code",
   "execution_count": 11,
   "metadata": {},
   "outputs": [
    {
     "data": {
      "text/plain": [
       "'c'"
      ]
     },
     "execution_count": 11,
     "metadata": {},
     "output_type": "execute_result"
    }
   ],
   "source": []
  },
  {
   "cell_type": "code",
   "execution_count": null,
   "metadata": {},
   "outputs": [],
   "source": []
  }
 ],
 "metadata": {
  "kernelspec": {
   "display_name": "Python 3",
   "language": "python",
   "name": "python3"
  },
  "language_info": {
   "codemirror_mode": {
    "name": "ipython",
    "version": 3
   },
   "file_extension": ".py",
   "mimetype": "text/x-python",
   "name": "python",
   "nbconvert_exporter": "python",
   "pygments_lexer": "ipython3",
   "version": "3.6.4"
  }
 },
 "nbformat": 4,
 "nbformat_minor": 2
}
