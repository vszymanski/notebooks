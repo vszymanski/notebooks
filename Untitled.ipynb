{
 "cells": [
  {
   "cell_type": "code",
   "execution_count": 7,
   "metadata": {},
   "outputs": [
    {
     "name": "stdout",
     "output_type": "stream",
     "text": [
      " +-----------------------------------------+\n",
      " | XBee Python Library Receive Data Sample |\n",
      " +-----------------------------------------+\n",
      "\n"
     ]
    },
    {
     "ename": "InvalidOperatingModeException",
     "evalue": "Unsupported operating mode: AT mode",
     "output_type": "error",
     "traceback": [
      "\u001b[0;31m---------------------------------------------------------------------------\u001b[0m",
      "\u001b[0;31mInvalidOperatingModeException\u001b[0m             Traceback (most recent call last)",
      "\u001b[0;32m<ipython-input-7-e3c3554fd159>\u001b[0m in \u001b[0;36m<module>\u001b[0;34m()\u001b[0m\n\u001b[1;32m     33\u001b[0m \u001b[0;34m\u001b[0m\u001b[0m\n\u001b[1;32m     34\u001b[0m \u001b[0;32mif\u001b[0m \u001b[0m__name__\u001b[0m \u001b[0;34m==\u001b[0m \u001b[0;34m'__main__'\u001b[0m\u001b[0;34m:\u001b[0m\u001b[0;34m\u001b[0m\u001b[0m\n\u001b[0;32m---> 35\u001b[0;31m     \u001b[0mmain\u001b[0m\u001b[0;34m(\u001b[0m\u001b[0;34m)\u001b[0m\u001b[0;34m\u001b[0m\u001b[0m\n\u001b[0m",
      "\u001b[0;32m<ipython-input-7-e3c3554fd159>\u001b[0m in \u001b[0;36mmain\u001b[0;34m()\u001b[0m\n\u001b[1;32m     16\u001b[0m \u001b[0;34m\u001b[0m\u001b[0m\n\u001b[1;32m     17\u001b[0m     \u001b[0;32mtry\u001b[0m\u001b[0;34m:\u001b[0m\u001b[0;34m\u001b[0m\u001b[0m\n\u001b[0;32m---> 18\u001b[0;31m         \u001b[0mdevice\u001b[0m\u001b[0;34m.\u001b[0m\u001b[0mopen\u001b[0m\u001b[0;34m(\u001b[0m\u001b[0;34m)\u001b[0m\u001b[0;34m\u001b[0m\u001b[0m\n\u001b[0m\u001b[1;32m     19\u001b[0m \u001b[0;34m\u001b[0m\u001b[0m\n\u001b[1;32m     20\u001b[0m         \u001b[0;32mdef\u001b[0m \u001b[0mdata_receive_callback\u001b[0m\u001b[0;34m(\u001b[0m\u001b[0mxbee_message\u001b[0m\u001b[0;34m)\u001b[0m\u001b[0;34m:\u001b[0m\u001b[0;34m\u001b[0m\u001b[0m\n",
      "\u001b[0;32m~/.local/lib/python3.6/site-packages/digi/xbee/devices.py\u001b[0m in \u001b[0;36mopen\u001b[0;34m(self)\u001b[0m\n\u001b[1;32m   1285\u001b[0m         \u001b[0;32mif\u001b[0m \u001b[0mself\u001b[0m\u001b[0;34m.\u001b[0m\u001b[0m_operating_mode\u001b[0m \u001b[0;34m==\u001b[0m \u001b[0mOperatingMode\u001b[0m\u001b[0;34m.\u001b[0m\u001b[0mAT_MODE\u001b[0m\u001b[0;34m:\u001b[0m\u001b[0;34m\u001b[0m\u001b[0m\n\u001b[1;32m   1286\u001b[0m             \u001b[0mself\u001b[0m\u001b[0;34m.\u001b[0m\u001b[0mclose\u001b[0m\u001b[0;34m(\u001b[0m\u001b[0;34m)\u001b[0m\u001b[0;34m\u001b[0m\u001b[0m\n\u001b[0;32m-> 1287\u001b[0;31m             \u001b[0;32mraise\u001b[0m \u001b[0mInvalidOperatingModeException\u001b[0m\u001b[0;34m.\u001b[0m\u001b[0mfrom_operating_mode\u001b[0m\u001b[0;34m(\u001b[0m\u001b[0mself\u001b[0m\u001b[0;34m.\u001b[0m\u001b[0m_operating_mode\u001b[0m\u001b[0;34m)\u001b[0m\u001b[0;34m\u001b[0m\u001b[0m\n\u001b[0m\u001b[1;32m   1288\u001b[0m \u001b[0;34m\u001b[0m\u001b[0m\n\u001b[1;32m   1289\u001b[0m         \u001b[0;31m# Read the device info (obtain its parameters and protocol).\u001b[0m\u001b[0;34m\u001b[0m\u001b[0;34m\u001b[0m\u001b[0m\n",
      "\u001b[0;31mInvalidOperatingModeException\u001b[0m: Unsupported operating mode: AT mode"
     ]
    }
   ],
   "source": [
    "from digi.xbee.devices import XBeeDevice\n",
    "\n",
    "# TODO: Replace with the serial port where your local module is connected to. \n",
    "PORT = \"/dev/ttyUSB1\"\n",
    "# TODO: Replace with the baud rate of your local module.\n",
    "BAUD_RATE = 9600\n",
    "TIMEOUT = 3000\n",
    "\n",
    "\n",
    "def main():\n",
    "    print(\" +-----------------------------------------+\")\n",
    "    print(\" | XBee Python Library Receive Data Sample |\")\n",
    "    print(\" +-----------------------------------------+\\n\")\n",
    "\n",
    "    device = XBeeDevice(PORT, BAUD_RATE)\n",
    "\n",
    "    try:\n",
    "        device.open()\n",
    "\n",
    "        def data_receive_callback(xbee_message):\n",
    "            print(\"From %s >> %s\" % (xbee_message.remote_device.get_64bit_addr(),\n",
    "                                     xbee_message.data.decode()))\n",
    "\n",
    "        device.add_data_received_callback(data_receive_callback)\n",
    "\n",
    "        print(\"Waiting for data...\\n\")\n",
    "        #input()\n",
    "\n",
    "    finally:\n",
    "        if device is not None and device.is_open():\n",
    "            device.close()\n",
    "\n",
    "\n",
    "if __name__ == '__main__':\n",
    "    main()"
   ]
  },
  {
   "cell_type": "code",
   "execution_count": null,
   "metadata": {},
   "outputs": [],
   "source": []
  }
 ],
 "metadata": {
  "kernelspec": {
   "display_name": "Python 3",
   "language": "python",
   "name": "python3"
  },
  "language_info": {
   "codemirror_mode": {
    "name": "ipython",
    "version": 3
   },
   "file_extension": ".py",
   "mimetype": "text/x-python",
   "name": "python",
   "nbconvert_exporter": "python",
   "pygments_lexer": "ipython3",
   "version": "3.6.4"
  }
 },
 "nbformat": 4,
 "nbformat_minor": 2
}
